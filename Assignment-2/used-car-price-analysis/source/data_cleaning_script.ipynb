{
  "nbformat": 4,
  "nbformat_minor": 0,
  "metadata": {
    "colab": {
      "provenance": []
    },
    "kernelspec": {
      "name": "python3",
      "display_name": "Python 3"
    },
    "language_info": {
      "name": "python"
    }
  },
  "cells": [
    {
      "cell_type": "code",
      "execution_count": 7,
      "metadata": {
        "id": "aJV8uzOTpgxU"
      },
      "outputs": [],
      "source": [
        "import pandas as pd\n",
        "\n",
        "# Load data\n",
        "df = pd.read_csv('/content/sample_data/train.csv')\n",
        "\n",
        "# Check for missing values\n",
        "missing_data = df.isnull().sum()\n",
        "\n",
        "# Impute missing values (replace with mean, median, or mode)\n",
        "\n",
        "# Convert 'Mileage' to numeric, handling errors\n",
        "df['Mileage'] = pd.to_numeric(df['Mileage'], errors='coerce')\n",
        "# Now calculate the mean and fill NaN values\n",
        "df['Mileage'] = df['Mileage'].fillna(df['Mileage'].mean())\n",
        "\n",
        "# --- Changes for 'Engine' column ---\n",
        "# Extract numeric part from 'Engine' column\n",
        "df['Engine'] = df['Engine'].str.extract('(\\d+)').astype(float)\n",
        "# Calculate the median of the numeric 'Engine' values and fill NaN\n",
        "df['Engine'] = df['Engine'].fillna(df['Engine'].median())\n",
        "# --- End of changes for 'Engine' column ---\n",
        "\n",
        "df['Fuel_Type'] = df['Fuel_Type'].fillna(df['Fuel_Type'].mode()[0])\n",
        "\n",
        "# Save output to a new file\n",
        "df.to_csv('/content/sample_data/cleaned_missing_values.csv', index=False)"
      ]
    },
    {
      "cell_type": "code",
      "source": [
        "import pandas as pd\n",
        "import re\n",
        "\n",
        "# Reload data to ensure consistency with the original data\n",
        "df = pd.read_csv('/content/sample_data/train.csv')\n",
        "\n",
        "# Function to extract numeric value from string, handling various units\n",
        "def extract_numeric(value):\n",
        "  \"\"\"\n",
        "  Extracts the numeric part of a string, handling potential units.\n",
        "\n",
        "  Args:\n",
        "    value: The input string.\n",
        "\n",
        "  Returns:\n",
        "    The extracted numeric value as a float, or NaN if not found.\n",
        "  \"\"\"\n",
        "  try:\n",
        "    # Use regex to find the first numeric sequence (including decimals)\n",
        "    numeric_part = re.search(r'(\\d+(\\.\\d+)?)', str(value)).group(1)\n",
        "    return float(numeric_part)\n",
        "  except (AttributeError, TypeError):\n",
        "    # Handle cases where regex fails to find a numeric part\n",
        "    return float('nan')\n",
        "\n",
        "# Apply the function to the relevant columns\n",
        "df['Mileage'] = df['Mileage'].apply(extract_numeric)\n",
        "df['Engine'] = df['Engine'].apply(extract_numeric)\n",
        "df['Power'] = df['Power'].apply(extract_numeric)\n",
        "# 'New_Price' likely needs more complex handling; skipped for now\n",
        "\n",
        "# Save output to a new file\n",
        "df.to_csv('/content/sample_data/unit_removed_data.csv', index=False)"
      ],
      "metadata": {
        "id": "SxNWR-0_rUUu"
      },
      "execution_count": 10,
      "outputs": []
    },
    {
      "cell_type": "code",
      "source": [
        "# Reload data with units removed\n",
        "df = pd.read_csv('/content/sample_data/unit_removed_data.csv')\n",
        "\n",
        "# One-hot encode the categorical variables\n",
        "df = pd.get_dummies(df, columns=['Fuel_Type', 'Transmission'], drop_first=True)\n",
        "\n",
        "# Save output to a new file\n",
        "df.to_csv('/content/sample_data/encoded_data.csv', index=False)\n"
      ],
      "metadata": {
        "id": "5p7xZR0FsBKX"
      },
      "execution_count": 11,
      "outputs": []
    },
    {
      "cell_type": "code",
      "source": [
        "# Reload data with encoded values\n",
        "df = pd.read_csv('/content/sample_data/encoded_data.csv')\n",
        "\n",
        "# Adding a new column for car age\n",
        "from datetime import datetime\n",
        "current_year = datetime.now().year\n",
        "df['Car_Age'] = current_year - df['Year']\n",
        "\n",
        "# Save output to a new file\n",
        "df.to_csv('/content/sample_data/feature_added_data.csv', index=False)\n"
      ],
      "metadata": {
        "id": "ALoze7XGsR4S"
      },
      "execution_count": 13,
      "outputs": []
    },
    {
      "cell_type": "code",
      "source": [
        "# Reload data with new feature\n",
        "df = pd.read_csv('/content/sample_data/feature_added_data.csv')\n",
        "\n",
        "# Check available columns in the dataframe\n",
        "print(df.columns)\n",
        "\n",
        "# Select specific columns (adjust based on available columns)\n",
        "# If 'Make' and 'Model' are not present, consider removing them or using alternative relevant columns\n",
        "selected_columns = df[['Location', 'Price', 'Mileage', 'Car_Age']]\n",
        "\n",
        "# Filter: For example, filtering cars with Mileage greater than 15 kmpl\n",
        "high_mileage_cars = df[df['Mileage'] > 15]\n",
        "\n",
        "# Rename columns\n",
        "df = df.rename(columns={'New_Price': 'Original_Price'})\n",
        "\n",
        "# Arrange (Sort): Sort by Car_Age in descending order\n",
        "df_sorted = df.sort_values(by='Car_Age', ascending=False)\n",
        "\n",
        "# Summarize with groupby: For example, average Price by Fuel_Type\n",
        "# Ensure 'Fuel_Type_Petrol' column exists after one-hot encoding; adjust if necessary\n",
        "avg_price_by_fuel = df.groupby('Fuel_Type_Petrol')['Price'].mean().reset_index()\n",
        "\n",
        "# Save each result to a separate file\n",
        "selected_columns.to_csv('/content/sample_data/selected_columns.csv', index=False)\n",
        "high_mileage_cars.to_csv('/content/sample_data/high_mileage_cars.csv', index=False)\n",
        "df_sorted.to_csv('/content/sample_data/sorted_data.csv', index=False)\n",
        "avg_price_by_fuel.to_csv('/content/sample_data/avg_price_by_fuel.csv', index=False)"
      ],
      "metadata": {
        "colab": {
          "base_uri": "https://localhost:8080/"
        },
        "id": "ZaDyyHqbsZke",
        "outputId": "aa220f17-b4bd-42f4-ea07-b51c8d280f88"
      },
      "execution_count": 15,
      "outputs": [
        {
          "output_type": "stream",
          "name": "stdout",
          "text": [
            "Index(['Unnamed: 0', 'Name', 'Location', 'Year', 'Kilometers_Driven',\n",
            "       'Owner_Type', 'Mileage', 'Engine', 'Power', 'Seats', 'New_Price',\n",
            "       'Price', 'Fuel_Type_Electric', 'Fuel_Type_Petrol',\n",
            "       'Transmission_Manual', 'Car_Age'],\n",
            "      dtype='object')\n"
          ]
        }
      ]
    }
  ]
}